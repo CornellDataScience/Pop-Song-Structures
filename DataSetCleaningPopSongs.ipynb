{
 "cells": [
  {
   "cell_type": "code",
   "execution_count": 23,
   "metadata": {},
   "outputs": [],
   "source": [
    "import urllib.request\n",
    "from bs4 import BeautifulSoup\n",
    "from urllib.request import Request, urlopen\n",
    "import pandas as pd\n",
    "import re\n",
    "import csv\n",
    "import requests\n",
    "import urllib.request"
   ]
  },
  {
   "cell_type": "code",
   "execution_count": 47,
   "metadata": {},
   "outputs": [],
   "source": [
    "Top502019 = pd.read_csv('/Users/akumaar/Desktop/Billboard2019 songs.csv')\n",
    "Top502020 = pd.read_csv('/Users/akumaar/Desktop/2020_popsongs_data (1).csv')\n",
    "nonTop50 = pd.read_csv('/Users/akumaar/Desktop/NonTop50Songs.csv')\n",
    "\n",
    "Top502019Data = pd.DataFrame(Top502019)\n",
    "Top502020Data = pd.DataFrame(Top502020)\n",
    "nonTop50Data = pd.DataFrame(nonTop50)"
   ]
  },
  {
   "cell_type": "code",
   "execution_count": 93,
   "metadata": {},
   "outputs": [
    {
     "name": "stderr",
     "output_type": "stream",
     "text": [
      "/Users/akumaar/opt/anaconda3/lib/python3.8/site-packages/pandas/core/strings.py:2001: UserWarning: This pattern has match groups. To actually get the groups, use str.extract.\n",
      "  return func(self, *args, **kwargs)\n"
     ]
    }
   ],
   "source": [
    "\n",
    "\n",
    "Top502020Data.columns = ['Title', 'Artist']\n",
    "\n",
    "Top502019Data.columns = ['Title', 'Artist']\n",
    "\n",
    "Top50Songs = pd.concat([Top502019Data, Top502020Data])\n",
    "\n",
    "Top50Songs\n",
    "\n",
    "\n",
    "nonTop50Data\n",
    "\n",
    "repeats = []\n",
    "\n",
    "\n",
    "\n",
    "\n"
   ]
  },
  {
   "cell_type": "code",
   "execution_count": 97,
   "metadata": {},
   "outputs": [
    {
     "name": "stderr",
     "output_type": "stream",
     "text": [
      "/Users/akumaar/opt/anaconda3/lib/python3.8/site-packages/pandas/core/strings.py:2001: UserWarning: This pattern has match groups. To actually get the groups, use str.extract.\n",
      "  return func(self, *args, **kwargs)\n"
     ]
    }
   ],
   "source": [
    "nonTop50final = []\n",
    "for i in range(len(nonTop50Data)):\n",
    "    if Top50Songs['Title'].str.contains(nonTop50Data['title'][i]).any() == False:\n",
    "        #repeats.append(nonTop50Data['title'][i])\n",
    "        record = {\n",
    "            'title': nonTop50Data['title'][i],\n",
    "            'artist':nonTop50Data['artist'][i],\n",
    "            'top50':0\n",
    "        }\n",
    "        nonTop50final.append(record)"
   ]
  },
  {
   "cell_type": "code",
   "execution_count": 117,
   "metadata": {},
   "outputs": [],
   "source": [
    "Top50Songsfinal = []"
   ]
  },
  {
   "cell_type": "code",
   "execution_count": 118,
   "metadata": {},
   "outputs": [],
   "source": [
    "\n",
    "#print(nonTop50final)\n",
    "#len(nonTop50final)\n",
    "#nonTop50final\n",
    "\n",
    "for i in range(len(Top502019Data)):\n",
    "    record = {\n",
    "        'title':Top502019Data['Title'][i],\n",
    "        'artist':Top502019Data['Artist'][i],\n",
    "        'top50':1\n",
    "    }\n",
    "    Top50Songsfinal.append(record)\n",
    "    \n",
    "for i in range(len(Top502020Data)):\n",
    "    record = {\n",
    "        'title':Top502020Data['Title'][i],\n",
    "        'artist':Top502020Data['Artist'][i],\n",
    "        'top50':1\n",
    "    }\n",
    "    Top50Songsfinal.append(record)"
   ]
  },
  {
   "cell_type": "code",
   "execution_count": 119,
   "metadata": {},
   "outputs": [
    {
     "data": {
      "text/plain": [
       "[{'title': 'Without Me', 'artist': 'Halsey', 'top50': 1},\n",
       " {'title': 'Sucker', 'artist': 'Jonas Brothers', 'top50': 1},\n",
       " {'title': 'Eastside', 'artist': 'benny blanco, Halsey & Khalid', 'top50': 1},\n",
       " {'title': \"I Don't Care\", 'artist': 'Ed Sheeran & Justin Bieber', 'top50': 1},\n",
       " {'title': 'Dancing With A Stranger',\n",
       "  'artist': 'Sam Smith & Normani',\n",
       "  'top50': 1},\n",
       " {'title': 'Talk', 'artist': 'Khalid', 'top50': 1},\n",
       " {'title': 'High Hopes', 'artist': 'Panic! At The Disco', 'top50': 1},\n",
       " {'title': 'Bad Guy', 'artist': 'Billie Eilish', 'top50': 1},\n",
       " {'title': 'Wow.', 'artist': 'Post Malone', 'top50': 1},\n",
       " {'title': 'Truth Hurts', 'artist': 'Lizzo', 'top50': 1},\n",
       " {'title': 'Senorita', 'artist': 'Shawn Mendes & Camila Cabello', 'top50': 1},\n",
       " {'title': '7 Rings', 'artist': 'Ariana Grande', 'top50': 1},\n",
       " {'title': 'Thank U, Next', 'artist': 'Ariana Grande', 'top50': 1},\n",
       " {'title': 'Sunflower (Spider-Man: Into The Spider-Verse)',\n",
       "  'artist': 'Post Malone & Swae Lee',\n",
       "  'top50': 1},\n",
       " {'title': 'Sweet But Psycho', 'artist': 'Ava Max', 'top50': 1},\n",
       " {'title': 'Happier', 'artist': 'Marshmello & Bastille', 'top50': 1},\n",
       " {'title': \"If I Can't Have You\", 'artist': 'Shawn Mendes', 'top50': 1},\n",
       " {'title': 'Close To Me',\n",
       "  'artist': 'Ellie Goulding X Diplo Featuring Swae Lee',\n",
       "  'top50': 1},\n",
       " {'title': 'Someone You Loved', 'artist': 'Lewis Capaldi', 'top50': 1},\n",
       " {'title': \"Break Up With Your Girlfriend, I'm Bored\",\n",
       "  'artist': 'Ariana Grande',\n",
       "  'top50': 1},\n",
       " {'title': 'Better', 'artist': 'Khalid', 'top50': 1},\n",
       " {'title': 'Old Town Road',\n",
       "  'artist': 'Lil Nas X Featuring Billy Ray Cyrus',\n",
       "  'top50': 1},\n",
       " {'title': 'Goodbyes',\n",
       "  'artist': 'Post Malone Featuring Young Thug',\n",
       "  'top50': 1},\n",
       " {'title': 'Hey Look Ma, I Made It',\n",
       "  'artist': 'Panic! At The Disco',\n",
       "  'top50': 1},\n",
       " {'title': 'Breathin', 'artist': 'Ariana Grande', 'top50': 1},\n",
       " {'title': 'Beautiful People',\n",
       "  'artist': 'Ed Sheeran Featuring Khalid',\n",
       "  'top50': 1},\n",
       " {'title': 'Only Human', 'artist': 'Jonas Brothers', 'top50': 1},\n",
       " {'title': 'Youngblood', 'artist': '5 Seconds Of Summer', 'top50': 1},\n",
       " {'title': 'Trampoline', 'artist': 'SHAED', 'top50': 1},\n",
       " {'title': 'Love Lies', 'artist': 'Khalid & Normani', 'top50': 1},\n",
       " {'title': 'Be Alright', 'artist': 'Dean Lewis', 'top50': 1},\n",
       " {'title': 'Sicko Mode', 'artist': 'Travis Scott', 'top50': 1},\n",
       " {'title': 'Circles', 'artist': 'Post Malone', 'top50': 1},\n",
       " {'title': 'You Need To Calm Down', 'artist': 'Taylor Swift', 'top50': 1},\n",
       " {'title': 'Easier', 'artist': '5 Seconds Of Summer', 'top50': 1},\n",
       " {'title': 'Beautiful',\n",
       "  'artist': 'Bazzi Featuring Camila Cabello',\n",
       "  'top50': 1},\n",
       " {'title': 'How Do You Sleep?', 'artist': 'Sam Smith', 'top50': 1},\n",
       " {'title': 'Who Do You Love',\n",
       "  'artist': 'The Chainsmokers Featuring 5 Seconds Of Summer',\n",
       "  'top50': 1},\n",
       " {'title': 'Cool', 'artist': 'Jonas Brothers', 'top50': 1},\n",
       " {'title': 'Better Now', 'artist': 'Post Malone', 'top50': 1},\n",
       " {'title': 'ME!', 'artist': 'Taylor Swift Featuring Brendon Urie', 'top50': 1},\n",
       " {'title': 'Girls Like You',\n",
       "  'artist': 'Maroon 5 Featuring Cardi B',\n",
       "  'top50': 1},\n",
       " {'title': 'This Feeling',\n",
       "  'artist': 'The Chainsmokers Featuring Kelsea Ballerini',\n",
       "  'top50': 1},\n",
       " {'title': 'Boyfriend', 'artist': 'Ariana Grande & Social House', 'top50': 1},\n",
       " {'title': 'Time', 'artist': 'NF', 'top50': 1},\n",
       " {'title': 'Never Really Over', 'artist': 'Katy Perry', 'top50': 1},\n",
       " {'title': \"When The Party's Over\", 'artist': 'Billie Eilish', 'top50': 1},\n",
       " {'title': 'Speechless', 'artist': 'Dan + Shay', 'top50': 1},\n",
       " {'title': 'Taki Taki',\n",
       "  'artist': 'DJ Snake Featuring Selena Gomez, Ozuna & Cardi B',\n",
       "  'top50': 1},\n",
       " {'title': 'Good As Hell', 'artist': 'Lizzo', 'top50': 1},\n",
       " {'title': 'Blinding Lights', 'artist': 'The Weeknd', 'top50': 1},\n",
       " {'title': 'Adore You', 'artist': 'Harry Styles', 'top50': 1},\n",
       " {'title': 'Circles', 'artist': 'Post Malone', 'top50': 1},\n",
       " {'title': \"Don't Start Now\", 'artist': 'Dua Lipa', 'top50': 1},\n",
       " {'title': 'Break My Heart', 'artist': 'Dua Lipa', 'top50': 1},\n",
       " {'title': 'Before You Go', 'artist': 'Lewis Capaldi', 'top50': 1},\n",
       " {'title': 'Say So', 'artist': 'Doja Cat', 'top50': 1},\n",
       " {'title': 'Watermelon Sugar', 'artist': 'Harry Styles', 'top50': 1},\n",
       " {'title': 'Intentions',\n",
       "  'artist': 'Justin Bieber Featuring Quavo',\n",
       "  'top50': 1},\n",
       " {'title': 'Memories', 'artist': 'Maroon 5', 'top50': 1},\n",
       " {'title': 'Hot Girl Bummer', 'artist': 'blackbear', 'top50': 1},\n",
       " {'title': 'Falling', 'artist': 'Trevor Daniel', 'top50': 1},\n",
       " {'title': 'My Oh My',\n",
       "  'artist': 'Camila Cabello Featuring DaBaby',\n",
       "  'top50': 1},\n",
       " {'title': 'Good As Hell', 'artist': 'Lizzo', 'top50': 1},\n",
       " {'title': 'Lose You To Love Me', 'artist': 'Selena Gomez', 'top50': 1},\n",
       " {'title': 'Roses', 'artist': 'SAINt JHN', 'top50': 1},\n",
       " {'title': 'Everything I Wanted', 'artist': 'Billie Eilish', 'top50': 1},\n",
       " {'title': 'Roxanne', 'artist': 'Arizona Zervas', 'top50': 1},\n",
       " {'title': 'Savage Love (Laxed - Siren Beat)',\n",
       "  'artist': 'Jawsh 685 x Jason Derulo',\n",
       "  'top50': 1},\n",
       " {'title': 'Rockstar', 'artist': 'DaBaby Featuring Roddy Ricch', 'top50': 1},\n",
       " {'title': 'Someone You Loved', 'artist': 'Lewis Capaldi', 'top50': 1},\n",
       " {'title': 'Dance Monkey', 'artist': 'Tones And I', 'top50': 1},\n",
       " {'title': 'Heartless', 'artist': 'The Weeknd', 'top50': 1},\n",
       " {'title': 'I Hope',\n",
       "  'artist': 'Gabby Barrett Featuring Charlie Puth',\n",
       "  'top50': 1},\n",
       " {'title': 'Supalonely',\n",
       "  'artist': 'BENEE Featuring Gus Dapperton',\n",
       "  'top50': 1},\n",
       " {'title': 'RITMO (Bad Boys For Life)',\n",
       "  'artist': 'Black Eyed Peas X J Balvin',\n",
       "  'top50': 1},\n",
       " {'title': 'Death Bed', 'artist': 'Powfu Featuring beabadoobee', 'top50': 1},\n",
       " {'title': 'If The World Was Ending',\n",
       "  'artist': 'JP Saxe Featuring Julia Michaels',\n",
       "  'top50': 1},\n",
       " {'title': 'Savage', 'artist': 'Megan Thee Stallion', 'top50': 1},\n",
       " {'title': 'ily', 'artist': 'Surf Mesa Featuring Emilee', 'top50': 1},\n",
       " {'title': 'Sunday Best', 'artist': 'Surfaces', 'top50': 1},\n",
       " {'title': 'Trampoline', 'artist': 'SHAED', 'top50': 1},\n",
       " {'title': '10,000 Hours', 'artist': 'Dan + Shay & Justin Bieber', 'top50': 1},\n",
       " {'title': 'Mood', 'artist': '24kGoldn Featuring iann dior', 'top50': 1},\n",
       " {'title': 'Come & Go', 'artist': 'Juice WRLD x Marshmello', 'top50': 1},\n",
       " {'title': 'Only Human', 'artist': 'Jonas Brothers', 'top50': 1},\n",
       " {'title': 'Panini', 'artist': 'Lil Nas X', 'top50': 1},\n",
       " {'title': 'Be Like That',\n",
       "  'artist': 'Kane Brown With Swae Lee & Khalid',\n",
       "  'top50': 1},\n",
       " {'title': 'The Box', 'artist': 'Roddy Ricch', 'top50': 1},\n",
       " {'title': 'Rain On Me', 'artist': 'Lady Gaga & Ariana Grande', 'top50': 1},\n",
       " {'title': 'Like That', 'artist': 'Doja Cat Featuring Gucci Mane', 'top50': 1},\n",
       " {'title': 'The Bones', 'artist': 'Maren Morris', 'top50': 1},\n",
       " {'title': 'Kings & Queens', 'artist': 'Ava Max', 'top50': 1},\n",
       " {'title': 'Truth Hurts', 'artist': 'Lizzo', 'top50': 1},\n",
       " {'title': 'Dynamite', 'artist': 'BTS', 'top50': 1},\n",
       " {'title': 'Blueberry Faygo', 'artist': 'Lil Mosey', 'top50': 1},\n",
       " {'title': 'You Should Be Sad', 'artist': 'Halsey', 'top50': 1},\n",
       " {'title': 'Graveyard', 'artist': 'Halsey', 'top50': 1},\n",
       " {'title': 'Toosie Slide', 'artist': 'Drake', 'top50': 1},\n",
       " {'title': 'Bang!', 'artist': 'AJR', 'top50': 1}]"
      ]
     },
     "execution_count": 119,
     "metadata": {},
     "output_type": "execute_result"
    }
   ],
   "source": [
    "Top50Songsfinal"
   ]
  },
  {
   "cell_type": "code",
   "execution_count": 120,
   "metadata": {},
   "outputs": [],
   "source": [
    "DataSet = nonTop50final + Top50Songsfinal"
   ]
  },
  {
   "cell_type": "code",
   "execution_count": 122,
   "metadata": {},
   "outputs": [
    {
     "data": {
      "text/plain": [
       "338"
      ]
     },
     "execution_count": 122,
     "metadata": {},
     "output_type": "execute_result"
    }
   ],
   "source": [
    "len(DataSet)"
   ]
  },
  {
   "cell_type": "code",
   "execution_count": 125,
   "metadata": {},
   "outputs": [],
   "source": [
    "Full_Songs_Data = pd.DataFrame(DataSet)\n",
    "Full_Songs_Data.to_csv(r'/Users/akumaar/Desktop/Full_Songs_Data.csv')"
   ]
  },
  {
   "cell_type": "code",
   "execution_count": null,
   "metadata": {},
   "outputs": [],
   "source": []
  }
 ],
 "metadata": {
  "kernelspec": {
   "display_name": "Python 3",
   "language": "python",
   "name": "python3"
  },
  "language_info": {
   "codemirror_mode": {
    "name": "ipython",
    "version": 3
   },
   "file_extension": ".py",
   "mimetype": "text/x-python",
   "name": "python",
   "nbconvert_exporter": "python",
   "pygments_lexer": "ipython3",
   "version": "3.8.5"
  }
 },
 "nbformat": 4,
 "nbformat_minor": 4
}
