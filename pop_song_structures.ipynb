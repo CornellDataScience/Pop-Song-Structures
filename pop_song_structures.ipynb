{
 "cells": [
  {
   "cell_type": "code",
   "execution_count": 68,
   "metadata": {},
   "outputs": [],
   "source": [
    "import csv \n",
    "import pandas as pd"
   ]
  },
  {
   "cell_type": "code",
   "execution_count": 69,
   "metadata": {},
   "outputs": [],
   "source": [
    "# loads the songs \n",
    "songs = pd.read_csv('2020_popsongs_structure.csv')\n",
    "# opening the file\n",
    "file = open('organized_song_structures.csv', 'w')\n",
    "writer = csv.writer(file)"
   ]
  },
  {
   "cell_type": "code",
   "execution_count": 71,
   "metadata": {},
   "outputs": [],
   "source": [
    "# this function takes in a string list of sections and turns it into an actual list\n",
    "# that we can then use to import into a row \n",
    "def structure_list(string):\n",
    "    list = []\n",
    "    new_string = string[2:]\n",
    "    while(len(new_string) > 0):\n",
    "        pos_end = new_string.find(\"'\")\n",
    "        section = new_string[:pos_end]\n",
    "        list.append(section)\n",
    "        new_string = new_string[pos_end + 4:]\n",
    "    return list"
   ]
  },
  {
   "cell_type": "code",
   "execution_count": 72,
   "metadata": {},
   "outputs": [],
   "source": [
    "for x in range(0, len(songs)): \n",
    "    row = structure_list(songs['Structure'][x])\n",
    "    writer.writerow(row)"
   ]
  },
  {
   "cell_type": "code",
   "execution_count": 73,
   "metadata": {},
   "outputs": [],
   "source": [
    "file.close()"
   ]
  },
  {
   "cell_type": "code",
   "execution_count": null,
   "metadata": {},
   "outputs": [],
   "source": []
  }
 ],
 "metadata": {
  "kernelspec": {
   "display_name": "Python 3",
   "language": "python",
   "name": "python3"
  },
  "language_info": {
   "codemirror_mode": {
    "name": "ipython",
    "version": 3
   },
   "file_extension": ".py",
   "mimetype": "text/x-python",
   "name": "python",
   "nbconvert_exporter": "python",
   "pygments_lexer": "ipython3",
   "version": "3.6.8"
  }
 },
 "nbformat": 4,
 "nbformat_minor": 2
}
