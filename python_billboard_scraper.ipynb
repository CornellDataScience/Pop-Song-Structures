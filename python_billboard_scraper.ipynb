{
 "cells": [
  {
   "cell_type": "code",
   "execution_count": 107,
   "metadata": {},
   "outputs": [],
   "source": [
    "# for reference: \n",
    "# https://www.scrapehero.com/a-beginners-guide-to-web-scraping-part-2-build-a-scraper-for-reddit/\n",
    "\n",
    "import urllib.request\n",
    "from bs4 import BeautifulSoup\n",
    "import csv "
   ]
  },
  {
   "cell_type": "code",
   "execution_count": 116,
   "metadata": {},
   "outputs": [],
   "source": [
    "url = \"https://www.billboard.com/charts/year-end/2020/pop-songs\"\n",
    "#download the URL and extract the content to the variable html \n",
    "headers = {'user-agent':'Mozilla/5.0 (X11; Linux x86_64) AppleWebKit/537.36 (KHTML, like Gecko) Chrome/62.0.3202.94 Safari/537.3'}\n",
    "request = urllib.request.Request(url,headers=headers)\n",
    "html = urllib.request.urlopen(request).read()"
   ]
  },
  {
   "cell_type": "code",
   "execution_count": 117,
   "metadata": {},
   "outputs": [],
   "source": [
    "#pass the HTML to Beautifulsoup.\n",
    "soup = BeautifulSoup(html,'html.parser')\n",
    "#get the HTML of the table called chart-details where all the ranks are displayed\n",
    "main_table = soup.find(\"div\",attrs={'class':'chart-details'})\n",
    "#Now we go into chart_details and get every a element in it which has a class \"title\" \n",
    "songs = main_table.find_all(\"article\",class_=\"ye-chart-item\")"
   ]
  },
  {
   "cell_type": "code",
   "execution_count": 118,
   "metadata": {},
   "outputs": [],
   "source": [
    "file = open('2020_popsongs_data.csv', 'w')\n",
    "writer = csv.writer(file)\n",
    "#writing the header row\n",
    "writer.writerow(['Rank', 'Title', 'Artist'])\n",
    "#from each link extract the data of link \n",
    "for song in songs: \n",
    "    rank   = song.find(\"div\",attrs={'class':'ye-chart-item__rank'}).text.strip()\n",
    "    title  = song.find(\"div\",attrs={'class':'ye-chart-item__title'}).text.strip()\n",
    "    artist = song.find(\"div\",attrs={'class':'ye-chart-item__artist'}).text.strip()\n",
    "    #formatting each one \n",
    "    new_rank   = (rank.encode('utf-8')).decode('utf-8')\n",
    "    new_title  = (title.encode('utf-8')).decode('utf-8')\n",
    "    new_artist = (artist.encode('utf-8')).decode('utf-8')\n",
    "    #print(\"%s - %s - %s\"%(rank,title,artist))\n",
    "    writer.writerow([new_rank, new_title, new_artist])"
   ]
  },
  {
   "cell_type": "code",
   "execution_count": 119,
   "metadata": {},
   "outputs": [],
   "source": [
    "file.close()"
   ]
  },
  {
   "cell_type": "code",
   "execution_count": null,
   "metadata": {},
   "outputs": [],
   "source": []
  }
 ],
 "metadata": {
  "kernelspec": {
   "display_name": "Python 3",
   "language": "python",
   "name": "python3"
  },
  "language_info": {
   "codemirror_mode": {
    "name": "ipython",
    "version": 3
   },
   "file_extension": ".py",
   "mimetype": "text/x-python",
   "name": "python",
   "nbconvert_exporter": "python",
   "pygments_lexer": "ipython3",
   "version": "3.6.8"
  }
 },
 "nbformat": 4,
 "nbformat_minor": 2
}
